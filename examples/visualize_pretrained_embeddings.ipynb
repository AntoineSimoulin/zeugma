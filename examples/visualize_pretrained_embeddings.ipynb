{
 "cells": [
  {
   "cell_type": "markdown",
   "metadata": {},
   "source": [
    "# Example notebook 1: visualize word embeddings"
   ]
  },
  {
   "cell_type": "code",
   "execution_count": 1,
   "metadata": {},
   "outputs": [
    {
     "name": "stderr",
     "output_type": "stream",
     "text": [
      "/Users/nicolas/anaconda3/lib/python3.6/site-packages/h5py/__init__.py:34: FutureWarning: Conversion of the second argument of issubdtype from `float` to `np.floating` is deprecated. In future, it will be treated as `np.float64 == np.dtype(float).type`.\n",
      "  from ._conv import register_converters as _register_converters\n",
      "Using TensorFlow backend.\n"
     ]
    }
   ],
   "source": [
    "import os\n",
    "from zeugma import GloVeTransformer\n",
    "\n",
    "# First download embeddings, if they are already \n",
    "# there it will be automatically skipped\n",
    "GloVeTransformer.download_embeddings()  \n",
    "\n",
    "# load embedding transformer\n",
    "embedding_transformer = GloVeTransformer()"
   ]
  },
  {
   "cell_type": "markdown",
   "metadata": {},
   "source": [
    "## Create the embeddings matrix for the words present in a given corpus"
   ]
  },
  {
   "cell_type": "code",
   "execution_count": 2,
   "metadata": {},
   "outputs": [],
   "source": [
    "from zeugma import TextsToSequences\n",
    "\n",
    "# Define a corpus to get a list of relevant words\n",
    "corpus = ['love like enjoy happy', 'hate anger unhappy']\n",
    "\n",
    "tts = TextsToSequences()\n",
    "tts.fit(corpus)\n",
    "word_index = tts.word_index\n",
    "\n",
    "def create_embedding_matrix(word_index, embedding_transformer):\n",
    "    \"\"\" Prepare the embedding matrix \"\"\"\n",
    "    embedding_dim = embedding_transformer.transform(['the']).shape[1]\n",
    "    embedding_matrix = np.zeros((len(word_index)+1, embedding_dim))\n",
    "    for word, i in word_index.items():\n",
    "        embedding_matrix[i] = embedding_transformer.transform([word])[0]\n",
    "    return embedding_matrix\n",
    "\n",
    "embedding_matrix = create_embedding_matrix(word_index, embedding_transformer)"
   ]
  },
  {
   "cell_type": "markdown",
   "metadata": {},
   "source": [
    "## Setup tensorboard configuration"
   ]
  },
  {
   "cell_type": "code",
   "execution_count": 3,
   "metadata": {},
   "outputs": [],
   "source": [
    "import tensorflow as tf\n",
    "from tensorflow.contrib.tensorboard.plugins import projector\n",
    "\n",
    "# Create the log directory\n",
    "LOG_DIR = os.path.join(os.environ['PWD'], 'logs')\n",
    "if not os.path.exists(LOG_DIR):\n",
    "    os.mkdir(LOG_DIR)\n",
    "\n",
    "# Write word names in a file for tensorboard display\n",
    "with open(os.path.join(LOG_DIR, 'metadata.tsv'), 'w') as f:\n",
    "    f.write('Word\\n' + '\\n'.join(word_index.keys()))\n",
    "    \n",
    "# Create a tensorflow variable from embedding matrix\n",
    "embedding_var = tf.Variable(embedding_matrix)\n",
    "\n",
    "# Initialise tensorflow session\n",
    "init = tf.global_variables_initializer()\n",
    "session = tf.Session()\n",
    "session.run(init)\n",
    "\n",
    "# Save embeddings in model.ckpt\n",
    "saver = tf.train.Saver()\n",
    "saver.save(session, os.path.join(\"logs\", \"model.ckpt\"))\n",
    "\n",
    "# Add metadata (i.e. words here) to the embeddings points\n",
    "summary_writer = tf.summary.FileWriter(LOG_DIR)\n",
    "config = projector.ProjectorConfig()\n",
    "embedding = config.embeddings.add()\n",
    "embedding.tensor_name = embedding_var.name\n",
    "embedding.metadata_path = os.path.join(LOG_DIR, 'metadata.tsv')\n",
    "\n",
    "projector.visualize_embeddings(summary_writer, config)"
   ]
  },
  {
   "cell_type": "markdown",
   "metadata": {},
   "source": [
    "## Run tensorboard locally"
   ]
  },
  {
   "cell_type": "code",
   "execution_count": 5,
   "metadata": {},
   "outputs": [
    {
     "name": "stdout",
     "output_type": "stream",
     "text": [
      "/Users/nicolas/anaconda3/lib/python3.6/site-packages/h5py/__init__.py:34: FutureWarning: Conversion of the second argument of issubdtype from `float` to `np.floating` is deprecated. In future, it will be treated as `np.float64 == np.dtype(float).type`.\n",
      "  from ._conv import register_converters as _register_converters\n",
      "TensorBoard 1.6.0 at http://127.0.0.1:6006 (Press CTRL+C to quit)\n",
      "^C\n"
     ]
    }
   ],
   "source": [
    "# Run tensorboard to visualize the embeddings in your\n",
    "# browser on port 6006: http://localhost:6006\n",
    "# Navigate to the 'Projector' tab to visualize the embeddings\n",
    "!tensorboard --logdir logs/ --host 127.0.0.1"
   ]
  }
 ],
 "metadata": {
  "kernelspec": {
   "display_name": "Python 3",
   "language": "python",
   "name": "python3"
  },
  "language_info": {
   "codemirror_mode": {
    "name": "ipython",
    "version": 3
   },
   "file_extension": ".py",
   "mimetype": "text/x-python",
   "name": "python",
   "nbconvert_exporter": "python",
   "pygments_lexer": "ipython3",
   "version": "3.6.3"
  }
 },
 "nbformat": 4,
 "nbformat_minor": 2
}
