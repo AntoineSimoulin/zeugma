{
 "cells": [
  {
   "cell_type": "markdown",
   "metadata": {},
   "source": [
    "# Example notebook 2: visualize word embeddings after fine-tuning\n",
    "In this example the embeddings are fine-tuned on a classification task on the 20 newsgroup dataset.\n",
    "The classifier is a TextCNN, i.e. a 1d convolutional network used for text classification."
   ]
  },
  {
   "cell_type": "code",
   "execution_count": 1,
   "metadata": {},
   "outputs": [
    {
     "name": "stderr",
     "output_type": "stream",
     "text": [
      "/Users/nicolas/anaconda3/lib/python3.6/site-packages/h5py/__init__.py:34: FutureWarning: Conversion of the second argument of issubdtype from `float` to `np.floating` is deprecated. In future, it will be treated as `np.float64 == np.dtype(float).type`.\n",
      "  from ._conv import register_converters as _register_converters\n",
      "Using TensorFlow backend.\n"
     ]
    }
   ],
   "source": [
    "import os\n",
    "from zeugma import GloVeTransformer\n",
    "\n",
    "# First download embeddings, if they are already \n",
    "# there it will be automatically skipped\n",
    "GloVeTransformer.download_embeddings()  \n",
    "\n",
    "# load embedding transformer\n",
    "embedding_transformer = GloVeTransformer()"
   ]
  },
  {
   "cell_type": "markdown",
   "metadata": {},
   "source": [
    "## Preprocessing"
   ]
  },
  {
   "cell_type": "code",
   "execution_count": 2,
   "metadata": {},
   "outputs": [],
   "source": [
    "from keras.utils import np_utils\n",
    "from sklearn.datasets import fetch_20newsgroups\n",
    "\n",
    "newsgroups_train = fetch_20newsgroups(subset='train')\n",
    "corpus = newsgroups_train.data\n",
    "y_train = np_utils.to_categorical(newsgroups_train.target)"
   ]
  },
  {
   "cell_type": "code",
   "execution_count": 3,
   "metadata": {},
   "outputs": [],
   "source": [
    "from zeugma import TextsToSequences, Padder\n",
    "from sklearn.pipeline import make_pipeline\n",
    "\n",
    "max_length = 200\n",
    "num_words = 10000\n",
    "\n",
    "sequencer = TextsToSequences(num_words=num_words)\n",
    "padder = Padder(max_length=max_length)\n",
    "\n",
    "# Build the Scikit-learn pipeline\n",
    "pipeline = make_pipeline(sequencer, padder)\n",
    "x_train = pipeline.fit_transform(corpus)"
   ]
  },
  {
   "cell_type": "code",
   "execution_count": 7,
   "metadata": {},
   "outputs": [],
   "source": [
    "word_index = {k: v for k, v in sequencer.word_index.items() if v <= num_words}\n",
    "\n",
    "def create_embedding_matrix(word_index, embedding_transformer):\n",
    "    \"\"\" Prepare the embedding matrix \"\"\"\n",
    "    embedding_dim = embedding_transformer.transform(['the']).shape[1]\n",
    "    embedding_matrix = np.zeros((len(word_index)+1, embedding_dim))\n",
    "    for word, i in word_index.items():\n",
    "        embedding_matrix[i] = embedding_transformer.transform([word])[0]\n",
    "    return embedding_matrix\n",
    "\n",
    "embedding_matrix = create_embedding_matrix(word_index, embedding_transformer)\n",
    "\n",
    "LOG_DIR = os.path.join(os.environ['PWD'], 'logs')\n",
    "\n",
    "if not os.path.exists(LOG_DIR):\n",
    "    os.mkdir(LOG_DIR)\n",
    "    \n",
    "# Write word names in a file for tensorboard display\n",
    "with open(os.path.join(LOG_DIR, 'metadata.tsv'), 'w') as f:\n",
    "    f.write('Word\\n' + '\\n'.join(word_index.keys()))"
   ]
  },
  {
   "cell_type": "markdown",
   "metadata": {},
   "source": [
    "## Model definition and traning"
   ]
  },
  {
   "cell_type": "code",
   "execution_count": 9,
   "metadata": {},
   "outputs": [],
   "source": [
    "from keras.models import Model\n",
    "from keras.layers import concatenate\n",
    "from keras.layers import Dense, Input, Dropout\n",
    "from keras.layers import Embedding, Conv1D, GlobalMaxPooling1D\n",
    "from keras.wrappers.scikit_learn import KerasClassifier\n",
    "\n",
    "def create_model(max_length, embedding_matrix):\n",
    "    \"\"\" Model creation function: returns a compiled TextCNN\"\"\"\n",
    "    embedding_layer = Embedding(len(embedding_matrix),\n",
    "                            embedding_matrix.shape[1],\n",
    "                            weights=[embedding_matrix],\n",
    "                            input_length=max_length,\n",
    "                            trainable=True,\n",
    "                            name='embeddings')\n",
    "\n",
    "    input_layer = Input(shape=(max_length,), dtype='int32', name='input')\n",
    "    embedded_sequences = embedding_layer(input_layer)\n",
    "\n",
    "    conv_blocks = []\n",
    "    for filter_size in [3]:\n",
    "        conv = Conv1D(128, filter_size, activation='relu', name='conv_'+str(filter_size))(embedded_sequences)\n",
    "        pool = GlobalMaxPooling1D(name='global_pool_cv_'+str(filter_size))(conv)\n",
    "        conv_blocks.append(pool)\n",
    "    merge = concatenate(conv_blocks) if len(conv_blocks) > 1 else conv_blocks[0]\n",
    "    #dropout = Dropout(0.5)(merge)\n",
    "    dense = Dense(128, activation='relu', name='dense')(merge)\n",
    "    #dropout = Dropout(0.5)(dense)\n",
    "    preds = Dense(20, activation='softmax', name='softmax')(dense)\n",
    "\n",
    "    model = Model(inputs=input_layer, outputs=preds)\n",
    "    model.compile(loss='categorical_crossentropy', optimizer='adam',\n",
    "                  metrics=['accuracy'])\n",
    "    return model"
   ]
  },
  {
   "cell_type": "code",
   "execution_count": 11,
   "metadata": {},
   "outputs": [
    {
     "name": "stdout",
     "output_type": "stream",
     "text": [
      "Epoch 1/2\n",
      " - 47s - loss: 2.1000 - acc: 0.4555\n",
      "Epoch 2/2\n",
      " - 50s - loss: 0.7371 - acc: 0.8056\n"
     ]
    },
    {
     "data": {
      "text/plain": [
       "<keras.callbacks.History at 0x1239ebf98>"
      ]
     },
     "execution_count": 11,
     "metadata": {},
     "output_type": "execute_result"
    }
   ],
   "source": [
    "from keras.callbacks import TensorBoard\n",
    "    \n",
    "tensorboard = TensorBoard(\n",
    "    histogram_freq=0,\n",
    "    write_graph=True,\n",
    "    write_images=True,\n",
    "    embeddings_freq=1,\n",
    "    embeddings_layer_names=['embeddings'],\n",
    "    embeddings_metadata={'embeddings': os.path.join(LOG_DIR, 'metadata.tsv')},\n",
    ")\n",
    "\n",
    "# Use Keras Scikit-learn wrapper to instantiate a TextCNN with all methods\n",
    "# required by Scikit-learn for the last step of a Pipeline\n",
    "sklearn_textcnn = KerasClassifier(build_fn=create_model, epochs=2, batch_size=128, \n",
    "                                  max_length=max_length, embedding_matrix=embedding_matrix,\n",
    "                                  verbose=2, callbacks=[tensorboard])\n",
    "\n",
    "sklearn_textcnn.fit(x_train, y_train)"
   ]
  },
  {
   "cell_type": "code",
   "execution_count": null,
   "metadata": {},
   "outputs": [
    {
     "name": "stdout",
     "output_type": "stream",
     "text": [
      "/Users/nicolas/anaconda3/lib/python3.6/site-packages/h5py/__init__.py:34: FutureWarning: Conversion of the second argument of issubdtype from `float` to `np.floating` is deprecated. In future, it will be treated as `np.float64 == np.dtype(float).type`.\n",
      "  from ._conv import register_converters as _register_converters\n",
      "TensorBoard 1.6.0 at http://127.0.0.1:6006 (Press CTRL+C to quit)\n"
     ]
    }
   ],
   "source": [
    "# Run tensorboard to visualize the embeddings in your\n",
    "# browser on port 6006: http://localhost:6006\n",
    "# Navigate to the 'Projector' tab to visualize the embeddings\n",
    "!tensorboard --logdir logs/ --host 127.0.0.1"
   ]
  }
 ],
 "metadata": {
  "kernelspec": {
   "display_name": "Python 3",
   "language": "python",
   "name": "python3"
  },
  "language_info": {
   "codemirror_mode": {
    "name": "ipython",
    "version": 3
   },
   "file_extension": ".py",
   "mimetype": "text/x-python",
   "name": "python",
   "nbconvert_exporter": "python",
   "pygments_lexer": "ipython3",
   "version": "3.6.3"
  }
 },
 "nbformat": 4,
 "nbformat_minor": 2
}
