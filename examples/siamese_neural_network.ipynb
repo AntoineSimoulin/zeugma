{
 "cells": [
  {
   "cell_type": "markdown",
   "metadata": {},
   "source": [
    "# Siamese neural network notebook example\n",
    "To play with this notebook download the Quora questions pairs dataset on Kaggle and unzip it: https://www.kaggle.com/quora/question-pairs-dataset/data"
   ]
  },
  {
   "cell_type": "code",
   "execution_count": null,
   "metadata": {},
   "outputs": [],
   "source": [
    "%load_ext autoreload\n",
    "%autoreload 2\n",
    "import pandas as pd\n",
    "from sklearn.model_selection import train_test_split\n",
    "from zeugma import GloVeTransformer\n",
    "\n",
    "pd.set_option('display.max_colwidth', 200)\n",
    "\n",
    "# Download and load embedding\n",
    "GloVeTransformer.download_embeddings()\n",
    "glove = GloVeTransformer(aggregation='sum')\n",
    "\n",
    "df = pd.read_csv('questions.csv')\n",
    "df_train, df_test = train_test_split(df)"
   ]
  },
  {
   "cell_type": "markdown",
   "metadata": {},
   "source": [
    "## Create text preprocessing transformer"
   ]
  },
  {
   "cell_type": "code",
   "execution_count": null,
   "metadata": {},
   "outputs": [],
   "source": [
    "from sklearn.preprocessing import FunctionTransformer\n",
    "import spacy\n",
    "\n",
    "nlp = spacy.load('en', disable=['tagger', 'parser', 'ner'])\n",
    "\n",
    "\n",
    "def lemmatize(text, n_tokens=10):\n",
    "    \"\"\" Return the n_tokens first lemmatized tokens of an input text\"\"\"\n",
    "    tokens = [\n",
    "        token.lemma_ if token.lemma_ != '-PRON-' else token.lower_\n",
    "        for token in nlp(text)\n",
    "        if not (token.is_punct | token.is_space)\n",
    "    ]\n",
    "    return ' '.join(tokens[:n_tokens])\n",
    "\n",
    "\n",
    "text_preprocessor = FunctionTransformer(\n",
    "    lambda job_titles: [lemmatize(t) for t in job_titles],\n",
    "    validate=False\n",
    ")"
   ]
  },
  {
   "cell_type": "markdown",
   "metadata": {},
   "source": [
    "## Build sklearn wrapper of the siamese network"
   ]
  },
  {
   "cell_type": "code",
   "execution_count": null,
   "metadata": {},
   "outputs": [],
   "source": [
    "from keras import Model, Sequential\n",
    "from keras.layers import Input, Dense, Dropout, subtract, Lambda\n",
    "from keras import backend as K\n",
    "from keras.wrappers.scikit_learn import KerasClassifier\n",
    "\n",
    "def create_model(input_dim=300):\n",
    "    \"\"\" Model creation function: returns a compiled Siamese Network\"\"\"\n",
    "    concat_input = Input((2*input_dim,))\n",
    "\n",
    "    left_input = Lambda(lambda x: x[:, :input_dim], output_shape=(input_dim,))(concat_input)\n",
    "    right_input = Lambda(lambda x: x[:, input_dim:], output_shape=(input_dim,))(concat_input)\n",
    "\n",
    "    seq = Sequential()\n",
    "    seq.add(Dense(512, input_shape=(input_dim,), activation='relu'))\n",
    "    seq.add(Dropout(0.2))\n",
    "    seq.add(Dense(256, input_shape=(input_dim,), activation='relu'))\n",
    "    seq.add(Dropout(0.2))\n",
    "    seq.add(Dense(128, activation='relu'))\n",
    "\n",
    "    encoded_l = seq(left_input)\n",
    "    encoded_r = seq(right_input)\n",
    "\n",
    "    subtracted = subtract([encoded_l, encoded_r])\n",
    "    l1_distance = Lambda(abs)(subtracted)\n",
    "    prediction = Dense(1, activation='sigmoid')(l1_distance)\n",
    "\n",
    "    siamese_net = Model(inputs=concat_input, outputs=prediction)\n",
    "\n",
    "    siamese_net.compile(loss=\"binary_crossentropy\", optimizer='adam', metrics=['accuracy'])\n",
    "    \n",
    "    return siamese_net\n",
    "\n",
    "\n",
    "siamese_net = KerasClassifier(build_fn=create_model, epochs=5, batch_size=128, \n",
    "                              verbose=2, validation_split=0.2)"
   ]
  },
  {
   "cell_type": "markdown",
   "metadata": {},
   "source": [
    "## Build preprocessing and model pipeline"
   ]
  },
  {
   "cell_type": "code",
   "execution_count": null,
   "metadata": {},
   "outputs": [],
   "source": [
    "from sklearn.pipeline import Pipeline, FeatureUnion\n",
    "from zeugma import ItemSelector\n",
    "\n",
    "pipeline = Pipeline([\n",
    "    ('union', FeatureUnion(\n",
    "        transformer_list=[\n",
    "            ('question1', Pipeline([\n",
    "                ('selector', ItemSelector('question1')),\n",
    "                ('text_preprocessor', text_preprocessor),\n",
    "                ('vectorizer', glove),\n",
    "            ])),\n",
    "            ('question2', Pipeline([\n",
    "                ('selector', ItemSelector('question2')),  \n",
    "                ('text_preprocessor', text_preprocessor),\n",
    "                ('vectorizer', glove),\n",
    "            ])),\n",
    "        ],\n",
    "    )),\n",
    "    ('siamese_net', siamese_net),\n",
    "])\n",
    "pipeline.fit(df_train, df_train['target'])\n",
    "\n",
    "y_prob = clf.predict_proba(X_test)[:, 1]\n",
    "y_pred = np.round(y_prob)"
   ]
  },
  {
   "cell_type": "markdown",
   "metadata": {},
   "source": [
    "## Results analysis"
   ]
  },
  {
   "cell_type": "code",
   "execution_count": null,
   "metadata": {},
   "outputs": [],
   "source": [
    "from sklearn import roc_auc_score\n",
    "print(roc_auc_score(df_test['is_duplicate'])"
   ]
  }
 ],
 "metadata": {
  "kernelspec": {
   "display_name": "Python 3",
   "language": "python",
   "name": "python3"
  },
  "language_info": {
   "codemirror_mode": {
    "name": "ipython",
    "version": 3
   },
   "file_extension": ".py",
   "mimetype": "text/x-python",
   "name": "python",
   "nbconvert_exporter": "python",
   "pygments_lexer": "ipython3",
   "version": "3.6.3"
  }
 },
 "nbformat": 4,
 "nbformat_minor": 2
}
